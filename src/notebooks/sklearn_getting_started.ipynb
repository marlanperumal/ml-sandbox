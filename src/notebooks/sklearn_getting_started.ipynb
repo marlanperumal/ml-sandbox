{
 "cells": [
  {
   "cell_type": "markdown",
   "id": "naval-hamburg",
   "metadata": {},
   "source": [
    "# Getting Started"
   ]
  },
  {
   "cell_type": "markdown",
   "id": "announced-smile",
   "metadata": {},
   "source": [
    "Initial Imports"
   ]
  },
  {
   "cell_type": "code",
   "execution_count": null,
   "id": "beneficial-massachusetts",
   "metadata": {},
   "outputs": [],
   "source": [
    "from sklearn.preprocessing import StandardScaler\n",
    "from sklearn.linear_model import LogisticRegression\n",
    "from sklearn.pipeline import make_pipeline\n",
    "from sklearn.datasets import load_iris\n",
    "from sklearn.model_selection import train_test_split\n",
    "from sklearn.metrics import accuracy_score"
   ]
  },
  {
   "cell_type": "markdown",
   "id": "motivated-wealth",
   "metadata": {},
   "source": [
    "Create a pipeline object"
   ]
  },
  {
   "cell_type": "code",
   "execution_count": null,
   "id": "demanding-producer",
   "metadata": {},
   "outputs": [],
   "source": [
    "pipe = make_pipeline(\n",
    "    StandardScaler(),\n",
    "    LogisticRegression()\n",
    ")"
   ]
  },
  {
   "cell_type": "markdown",
   "id": "swedish-armstrong",
   "metadata": {},
   "source": [
    "Load the iris dataset and split it into train and test sets"
   ]
  },
  {
   "cell_type": "code",
   "execution_count": null,
   "id": "solid-stress",
   "metadata": {},
   "outputs": [],
   "source": [
    "X, y = load_iris(return_X_y=True)\n",
    "X_train, X_test, y_train, y_test = train_test_split(X, y, random_state=0)"
   ]
  },
  {
   "cell_type": "markdown",
   "id": "traditional-newark",
   "metadata": {},
   "source": [
    "Fit the whole pipeline"
   ]
  },
  {
   "cell_type": "code",
   "execution_count": null,
   "id": "annual-wayne",
   "metadata": {},
   "outputs": [],
   "source": [
    "pipe.fit(X_train, y_train)"
   ]
  },
  {
   "cell_type": "markdown",
   "id": "cordless-merchant",
   "metadata": {},
   "source": [
    "We can now use it like any other estimator"
   ]
  },
  {
   "cell_type": "code",
   "execution_count": null,
   "id": "domestic-limit",
   "metadata": {},
   "outputs": [],
   "source": [
    "accuracy_score(pipe.predict(X_test), y_test)"
   ]
  }
 ],
 "metadata": {
  "jupytext": {
   "cell_metadata_filter": "-all",
   "main_language": "python",
   "notebook_metadata_filter": "-all"
  },
  "kernelspec": {
   "display_name": "Python 3.8.5 64-bit ('ml-sandbox': pipenv)",
   "language": "python",
   "name": "python38564bitmlsandboxpipenv83b79bbce6e44d3cbf3ccdf7d0fd4a3d"
  }
 },
 "nbformat": 4,
 "nbformat_minor": 5
}
